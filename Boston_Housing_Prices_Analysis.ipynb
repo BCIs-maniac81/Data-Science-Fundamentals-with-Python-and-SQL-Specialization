{
 "cells": [
  {
   "cell_type": "markdown",
   "id": "d90b1344-1c65-4727-af57-9938dbb128c4",
   "metadata": {},
   "source": [
    "# Final Assignment"
   ]
  },
  {
   "cell_type": "markdown",
   "id": "2fc6c430-669e-4749-9308-331fa0280f29",
   "metadata": {},
   "source": [
    "### Import Python Libraries"
   ]
  },
  {
   "cell_type": "code",
   "execution_count": 1,
   "id": "240a73e8-125b-4932-97ba-c97fdb4b112d",
   "metadata": {},
   "outputs": [],
   "source": [
    "import pandas as pd\n",
    "import seaborn as sns\n",
    "import numpy as np\n",
    "import matplotlib.pyplot as plt\n",
    "import scipy.stats"
   ]
  },
  {
   "cell_type": "markdown",
   "id": "e5e3ab4c-ccac-4134-bafa-b7ac133c27ad",
   "metadata": {},
   "source": [
    "### TASK 1. Familiarizing with Dataset"
   ]
  },
  {
   "cell_type": "markdown",
   "id": "dc063087-5c22-4e6f-a4d2-2894991e05ca",
   "metadata": {},
   "source": [
    "·      CRIM - per capita crime rate by town<br>\n",
    "·      ZN - proportion of residential land zoned for lots over 25,000 sq.ft.<br>\n",
    "·      INDUS - proportion of non-retail business acres per town.<br>\n",
    "·      CHAS - Charles River dummy variable (1 if tract bounds river; 0 otherwise).<br>\n",
    "·      NOX - nitric oxides concentration (parts per 10 million).<br>\n",
    "·      RM - average number of rooms per dwelling<br>\n",
    "·      AGE - proportion of owner-occupied units built prior to 1940.<br>\n",
    "·      DIS - weighted distances to five Boston employment centres.<br>\n",
    "·      RAD - index of accessibility to radial highways<br>\n",
    "·      TAX - full-value property-tax rate per $\\$10,000.$ <br>\n",
    ".      PTRATIO - pupil-teacher ratio by town.<br>\n",
    "·      LSTAT - $%$ lower status of the population <br>\n",
    "·      MEDV - Median value of owner-occupied homes in $\\$1000's$"
   ]
  },
  {
   "cell_type": "markdown",
   "id": "6105c15b-b917-4a4a-8dcb-ed28cfd605a9",
   "metadata": {},
   "source": [
    "### TASK 2. Work in Watson Studio instance"
   ]
  },
  {
   "cell_type": "markdown",
   "id": "5edce7ab-e8fb-40ed-ad44-ec20f8020035",
   "metadata": {},
   "source": [
    "# TASK 3. Loading Boston housing prices dataset "
   ]
  },
  {
   "cell_type": "code",
   "execution_count": 2,
   "id": "94ac6a80-3d2c-455a-88ba-3b1f6a040589",
   "metadata": {},
   "outputs": [],
   "source": [
    "boston_url = 'https://cf-courses-data.s3.us.cloud-object-storage.appdomain.cloud/IBMDeveloperSkillsNetwork-ST0151EN-SkillsNetwork/labs/boston_housing.csv'\n",
    "boston_df = pd.read_csv(boston_url)"
   ]
  },
  {
   "cell_type": "code",
   "execution_count": 3,
   "id": "c4150689-b1de-4d87-b313-a5c6ed18cdfd",
   "metadata": {},
   "outputs": [
    {
     "data": {
      "text/html": [
       "<div>\n",
       "<style scoped>\n",
       "    .dataframe tbody tr th:only-of-type {\n",
       "        vertical-align: middle;\n",
       "    }\n",
       "\n",
       "    .dataframe tbody tr th {\n",
       "        vertical-align: top;\n",
       "    }\n",
       "\n",
       "    .dataframe thead th {\n",
       "        text-align: right;\n",
       "    }\n",
       "</style>\n",
       "<table border=\"1\" class=\"dataframe\">\n",
       "  <thead>\n",
       "    <tr style=\"text-align: right;\">\n",
       "      <th></th>\n",
       "      <th>Unnamed: 0</th>\n",
       "      <th>CRIM</th>\n",
       "      <th>ZN</th>\n",
       "      <th>INDUS</th>\n",
       "      <th>CHAS</th>\n",
       "      <th>NOX</th>\n",
       "      <th>RM</th>\n",
       "      <th>AGE</th>\n",
       "      <th>DIS</th>\n",
       "      <th>RAD</th>\n",
       "      <th>TAX</th>\n",
       "      <th>PTRATIO</th>\n",
       "      <th>LSTAT</th>\n",
       "      <th>MEDV</th>\n",
       "    </tr>\n",
       "  </thead>\n",
       "  <tbody>\n",
       "    <tr>\n",
       "      <th>0</th>\n",
       "      <td>0</td>\n",
       "      <td>0.00632</td>\n",
       "      <td>18.0</td>\n",
       "      <td>2.31</td>\n",
       "      <td>0.0</td>\n",
       "      <td>0.538</td>\n",
       "      <td>6.575</td>\n",
       "      <td>65.2</td>\n",
       "      <td>4.0900</td>\n",
       "      <td>1.0</td>\n",
       "      <td>296.0</td>\n",
       "      <td>15.3</td>\n",
       "      <td>4.98</td>\n",
       "      <td>24.0</td>\n",
       "    </tr>\n",
       "    <tr>\n",
       "      <th>1</th>\n",
       "      <td>1</td>\n",
       "      <td>0.02731</td>\n",
       "      <td>0.0</td>\n",
       "      <td>7.07</td>\n",
       "      <td>0.0</td>\n",
       "      <td>0.469</td>\n",
       "      <td>6.421</td>\n",
       "      <td>78.9</td>\n",
       "      <td>4.9671</td>\n",
       "      <td>2.0</td>\n",
       "      <td>242.0</td>\n",
       "      <td>17.8</td>\n",
       "      <td>9.14</td>\n",
       "      <td>21.6</td>\n",
       "    </tr>\n",
       "    <tr>\n",
       "      <th>2</th>\n",
       "      <td>2</td>\n",
       "      <td>0.02729</td>\n",
       "      <td>0.0</td>\n",
       "      <td>7.07</td>\n",
       "      <td>0.0</td>\n",
       "      <td>0.469</td>\n",
       "      <td>7.185</td>\n",
       "      <td>61.1</td>\n",
       "      <td>4.9671</td>\n",
       "      <td>2.0</td>\n",
       "      <td>242.0</td>\n",
       "      <td>17.8</td>\n",
       "      <td>4.03</td>\n",
       "      <td>34.7</td>\n",
       "    </tr>\n",
       "    <tr>\n",
       "      <th>3</th>\n",
       "      <td>3</td>\n",
       "      <td>0.03237</td>\n",
       "      <td>0.0</td>\n",
       "      <td>2.18</td>\n",
       "      <td>0.0</td>\n",
       "      <td>0.458</td>\n",
       "      <td>6.998</td>\n",
       "      <td>45.8</td>\n",
       "      <td>6.0622</td>\n",
       "      <td>3.0</td>\n",
       "      <td>222.0</td>\n",
       "      <td>18.7</td>\n",
       "      <td>2.94</td>\n",
       "      <td>33.4</td>\n",
       "    </tr>\n",
       "    <tr>\n",
       "      <th>4</th>\n",
       "      <td>4</td>\n",
       "      <td>0.06905</td>\n",
       "      <td>0.0</td>\n",
       "      <td>2.18</td>\n",
       "      <td>0.0</td>\n",
       "      <td>0.458</td>\n",
       "      <td>7.147</td>\n",
       "      <td>54.2</td>\n",
       "      <td>6.0622</td>\n",
       "      <td>3.0</td>\n",
       "      <td>222.0</td>\n",
       "      <td>18.7</td>\n",
       "      <td>5.33</td>\n",
       "      <td>36.2</td>\n",
       "    </tr>\n",
       "  </tbody>\n",
       "</table>\n",
       "</div>"
      ],
      "text/plain": [
       "   Unnamed: 0     CRIM    ZN  INDUS  CHAS    NOX     RM   AGE     DIS  RAD  \\\n",
       "0           0  0.00632  18.0   2.31   0.0  0.538  6.575  65.2  4.0900  1.0   \n",
       "1           1  0.02731   0.0   7.07   0.0  0.469  6.421  78.9  4.9671  2.0   \n",
       "2           2  0.02729   0.0   7.07   0.0  0.469  7.185  61.1  4.9671  2.0   \n",
       "3           3  0.03237   0.0   2.18   0.0  0.458  6.998  45.8  6.0622  3.0   \n",
       "4           4  0.06905   0.0   2.18   0.0  0.458  7.147  54.2  6.0622  3.0   \n",
       "\n",
       "     TAX  PTRATIO  LSTAT  MEDV  \n",
       "0  296.0     15.3   4.98  24.0  \n",
       "1  242.0     17.8   9.14  21.6  \n",
       "2  242.0     17.8   4.03  34.7  \n",
       "3  222.0     18.7   2.94  33.4  \n",
       "4  222.0     18.7   5.33  36.2  "
      ]
     },
     "execution_count": 3,
     "metadata": {},
     "output_type": "execute_result"
    }
   ],
   "source": [
    "# Print the datset's head\n",
    "boston_df.head(5)"
   ]
  },
  {
   "cell_type": "markdown",
   "id": "4fd86a82-c6a5-48b1-93fb-2fb8a0ce3e82",
   "metadata": {},
   "source": [
    "# TASK 4. Generate Basic Statistics un visualizations"
   ]
  },
  {
   "cell_type": "markdown",
   "id": "337bd917-cf46-4a7c-97f3-fe3234e177ea",
   "metadata": {},
   "source": [
    "### Check if there is missing values"
   ]
  },
  {
   "cell_type": "code",
   "execution_count": 4,
   "id": "1149c6ae-0413-428e-a813-ee6d4b62db3e",
   "metadata": {},
   "outputs": [
    {
     "data": {
      "text/plain": [
       "0"
      ]
     },
     "execution_count": 4,
     "metadata": {},
     "output_type": "execute_result"
    }
   ],
   "source": [
    "boston_df.isnull().sum().sum() # if 0 so no missing values"
   ]
  },
  {
   "cell_type": "code",
   "execution_count": 5,
   "id": "0798ab82-1d3f-4393-8a44-3bc819448fca",
   "metadata": {},
   "outputs": [
    {
     "data": {
      "text/plain": [
       "Unnamed: 0      int64\n",
       "CRIM          float64\n",
       "ZN            float64\n",
       "INDUS         float64\n",
       "CHAS          float64\n",
       "NOX           float64\n",
       "RM            float64\n",
       "AGE           float64\n",
       "DIS           float64\n",
       "RAD           float64\n",
       "TAX           float64\n",
       "PTRATIO       float64\n",
       "LSTAT         float64\n",
       "MEDV          float64\n",
       "dtype: object"
      ]
     },
     "execution_count": 5,
     "metadata": {},
     "output_type": "execute_result"
    }
   ],
   "source": [
    "# print data types of the dataframe\n",
    "boston_df.dtypes"
   ]
  },
  {
   "cell_type": "markdown",
   "id": "e3499106-acd0-42fe-bce5-d4ce16812f89",
   "metadata": {},
   "source": [
    "### Statistical summary of Boston DataFrame (including all objects)"
   ]
  },
  {
   "cell_type": "code",
   "execution_count": 6,
   "id": "57196d81-5929-42a2-8049-29e3b82a1e8b",
   "metadata": {},
   "outputs": [
    {
     "data": {
      "text/html": [
       "<div>\n",
       "<style scoped>\n",
       "    .dataframe tbody tr th:only-of-type {\n",
       "        vertical-align: middle;\n",
       "    }\n",
       "\n",
       "    .dataframe tbody tr th {\n",
       "        vertical-align: top;\n",
       "    }\n",
       "\n",
       "    .dataframe thead th {\n",
       "        text-align: right;\n",
       "    }\n",
       "</style>\n",
       "<table border=\"1\" class=\"dataframe\">\n",
       "  <thead>\n",
       "    <tr style=\"text-align: right;\">\n",
       "      <th></th>\n",
       "      <th>Unnamed: 0</th>\n",
       "      <th>CRIM</th>\n",
       "      <th>ZN</th>\n",
       "      <th>INDUS</th>\n",
       "      <th>CHAS</th>\n",
       "      <th>NOX</th>\n",
       "      <th>RM</th>\n",
       "      <th>AGE</th>\n",
       "      <th>DIS</th>\n",
       "      <th>RAD</th>\n",
       "      <th>TAX</th>\n",
       "      <th>PTRATIO</th>\n",
       "      <th>LSTAT</th>\n",
       "      <th>MEDV</th>\n",
       "    </tr>\n",
       "  </thead>\n",
       "  <tbody>\n",
       "    <tr>\n",
       "      <th>count</th>\n",
       "      <td>506.000000</td>\n",
       "      <td>506.000000</td>\n",
       "      <td>506.000000</td>\n",
       "      <td>506.000000</td>\n",
       "      <td>506.000000</td>\n",
       "      <td>506.000000</td>\n",
       "      <td>506.000000</td>\n",
       "      <td>506.000000</td>\n",
       "      <td>506.000000</td>\n",
       "      <td>506.000000</td>\n",
       "      <td>506.000000</td>\n",
       "      <td>506.000000</td>\n",
       "      <td>506.000000</td>\n",
       "      <td>506.000000</td>\n",
       "    </tr>\n",
       "    <tr>\n",
       "      <th>mean</th>\n",
       "      <td>252.500000</td>\n",
       "      <td>3.613524</td>\n",
       "      <td>11.363636</td>\n",
       "      <td>11.136779</td>\n",
       "      <td>0.069170</td>\n",
       "      <td>0.554695</td>\n",
       "      <td>6.284634</td>\n",
       "      <td>68.574901</td>\n",
       "      <td>3.795043</td>\n",
       "      <td>9.549407</td>\n",
       "      <td>408.237154</td>\n",
       "      <td>18.455534</td>\n",
       "      <td>12.653063</td>\n",
       "      <td>22.532806</td>\n",
       "    </tr>\n",
       "    <tr>\n",
       "      <th>std</th>\n",
       "      <td>146.213884</td>\n",
       "      <td>8.601545</td>\n",
       "      <td>23.322453</td>\n",
       "      <td>6.860353</td>\n",
       "      <td>0.253994</td>\n",
       "      <td>0.115878</td>\n",
       "      <td>0.702617</td>\n",
       "      <td>28.148861</td>\n",
       "      <td>2.105710</td>\n",
       "      <td>8.707259</td>\n",
       "      <td>168.537116</td>\n",
       "      <td>2.164946</td>\n",
       "      <td>7.141062</td>\n",
       "      <td>9.197104</td>\n",
       "    </tr>\n",
       "    <tr>\n",
       "      <th>min</th>\n",
       "      <td>0.000000</td>\n",
       "      <td>0.006320</td>\n",
       "      <td>0.000000</td>\n",
       "      <td>0.460000</td>\n",
       "      <td>0.000000</td>\n",
       "      <td>0.385000</td>\n",
       "      <td>3.561000</td>\n",
       "      <td>2.900000</td>\n",
       "      <td>1.129600</td>\n",
       "      <td>1.000000</td>\n",
       "      <td>187.000000</td>\n",
       "      <td>12.600000</td>\n",
       "      <td>1.730000</td>\n",
       "      <td>5.000000</td>\n",
       "    </tr>\n",
       "    <tr>\n",
       "      <th>25%</th>\n",
       "      <td>126.250000</td>\n",
       "      <td>0.082045</td>\n",
       "      <td>0.000000</td>\n",
       "      <td>5.190000</td>\n",
       "      <td>0.000000</td>\n",
       "      <td>0.449000</td>\n",
       "      <td>5.885500</td>\n",
       "      <td>45.025000</td>\n",
       "      <td>2.100175</td>\n",
       "      <td>4.000000</td>\n",
       "      <td>279.000000</td>\n",
       "      <td>17.400000</td>\n",
       "      <td>6.950000</td>\n",
       "      <td>17.025000</td>\n",
       "    </tr>\n",
       "    <tr>\n",
       "      <th>50%</th>\n",
       "      <td>252.500000</td>\n",
       "      <td>0.256510</td>\n",
       "      <td>0.000000</td>\n",
       "      <td>9.690000</td>\n",
       "      <td>0.000000</td>\n",
       "      <td>0.538000</td>\n",
       "      <td>6.208500</td>\n",
       "      <td>77.500000</td>\n",
       "      <td>3.207450</td>\n",
       "      <td>5.000000</td>\n",
       "      <td>330.000000</td>\n",
       "      <td>19.050000</td>\n",
       "      <td>11.360000</td>\n",
       "      <td>21.200000</td>\n",
       "    </tr>\n",
       "    <tr>\n",
       "      <th>75%</th>\n",
       "      <td>378.750000</td>\n",
       "      <td>3.677083</td>\n",
       "      <td>12.500000</td>\n",
       "      <td>18.100000</td>\n",
       "      <td>0.000000</td>\n",
       "      <td>0.624000</td>\n",
       "      <td>6.623500</td>\n",
       "      <td>94.075000</td>\n",
       "      <td>5.188425</td>\n",
       "      <td>24.000000</td>\n",
       "      <td>666.000000</td>\n",
       "      <td>20.200000</td>\n",
       "      <td>16.955000</td>\n",
       "      <td>25.000000</td>\n",
       "    </tr>\n",
       "    <tr>\n",
       "      <th>max</th>\n",
       "      <td>505.000000</td>\n",
       "      <td>88.976200</td>\n",
       "      <td>100.000000</td>\n",
       "      <td>27.740000</td>\n",
       "      <td>1.000000</td>\n",
       "      <td>0.871000</td>\n",
       "      <td>8.780000</td>\n",
       "      <td>100.000000</td>\n",
       "      <td>12.126500</td>\n",
       "      <td>24.000000</td>\n",
       "      <td>711.000000</td>\n",
       "      <td>22.000000</td>\n",
       "      <td>37.970000</td>\n",
       "      <td>50.000000</td>\n",
       "    </tr>\n",
       "  </tbody>\n",
       "</table>\n",
       "</div>"
      ],
      "text/plain": [
       "       Unnamed: 0        CRIM          ZN       INDUS        CHAS         NOX  \\\n",
       "count  506.000000  506.000000  506.000000  506.000000  506.000000  506.000000   \n",
       "mean   252.500000    3.613524   11.363636   11.136779    0.069170    0.554695   \n",
       "std    146.213884    8.601545   23.322453    6.860353    0.253994    0.115878   \n",
       "min      0.000000    0.006320    0.000000    0.460000    0.000000    0.385000   \n",
       "25%    126.250000    0.082045    0.000000    5.190000    0.000000    0.449000   \n",
       "50%    252.500000    0.256510    0.000000    9.690000    0.000000    0.538000   \n",
       "75%    378.750000    3.677083   12.500000   18.100000    0.000000    0.624000   \n",
       "max    505.000000   88.976200  100.000000   27.740000    1.000000    0.871000   \n",
       "\n",
       "               RM         AGE         DIS         RAD         TAX     PTRATIO  \\\n",
       "count  506.000000  506.000000  506.000000  506.000000  506.000000  506.000000   \n",
       "mean     6.284634   68.574901    3.795043    9.549407  408.237154   18.455534   \n",
       "std      0.702617   28.148861    2.105710    8.707259  168.537116    2.164946   \n",
       "min      3.561000    2.900000    1.129600    1.000000  187.000000   12.600000   \n",
       "25%      5.885500   45.025000    2.100175    4.000000  279.000000   17.400000   \n",
       "50%      6.208500   77.500000    3.207450    5.000000  330.000000   19.050000   \n",
       "75%      6.623500   94.075000    5.188425   24.000000  666.000000   20.200000   \n",
       "max      8.780000  100.000000   12.126500   24.000000  711.000000   22.000000   \n",
       "\n",
       "            LSTAT        MEDV  \n",
       "count  506.000000  506.000000  \n",
       "mean    12.653063   22.532806  \n",
       "std      7.141062    9.197104  \n",
       "min      1.730000    5.000000  \n",
       "25%      6.950000   17.025000  \n",
       "50%     11.360000   21.200000  \n",
       "75%     16.955000   25.000000  \n",
       "max     37.970000   50.000000  "
      ]
     },
     "execution_count": 6,
     "metadata": {},
     "output_type": "execute_result"
    }
   ],
   "source": [
    "boston_df.describe()"
   ]
  },
  {
   "cell_type": "markdown",
   "id": "aee40244-469a-4517-a93a-c895149efdc9",
   "metadata": {},
   "source": [
    "### 1) Provide a boxplot for the \"Median value of owner-occupied homes\"."
   ]
  },
  {
   "cell_type": "code",
   "execution_count": 7,
   "id": "a20130bf-55e0-4b9a-b3b0-85a13ac095fd",
   "metadata": {},
   "outputs": [
    {
     "name": "stdout",
     "output_type": "stream",
     "text": [
      "mean value of data :  22.53\n",
      "max value of data :  50.0\n",
      "min value of data :  5.0\n",
      "median value of data :  21.2\n"
     ]
    }
   ],
   "source": [
    "print(\"mean value of data : \", round(boston_df[\"MEDV\"].mean(), 2))\n",
    "print(\"max value of data : \", round(boston_df[\"MEDV\"].max(), 2))\n",
    "print(\"min value of data : \", round(boston_df[\"MEDV\"].min(), 2))\n",
    "print(\"median value of data : \", round(boston_df[\"MEDV\"].median(), 2))"
   ]
  },
  {
   "cell_type": "code",
   "execution_count": 8,
   "id": "3c4f42fa-fc41-4dcf-9b13-a69dd419b599",
   "metadata": {},
   "outputs": [
    {
     "data": {
      "image/png": "[encoded data removed]",
      "text/plain": [
       "<Figure size 1008x360 with 1 Axes>"
      ]
     },
     "metadata": {
      "needs_background": "light"
     },
     "output_type": "display_data"
    }
   ],
   "source": [
    "plt.figure(figsize=(14,5))\n",
    "ax = sns.boxplot(x=\"MEDV\", data=boston_df, width=0.7, color=\"green\", showcaps =True)\n",
    "ax.set_title(\"Median Value of Owner-occupied homes\", fontsize=18)\n",
    "ax.set_xlabel(\"Value\", fontsize=16)\n",
    "ax.set_xticks([0, 5 , 10, 21.2, 17.025, 25, 30, 36.96, 50])\n",
    "plt.grid()"
   ]
  },
  {
   "cell_type": "code",
   "execution_count": 9,
   "id": "d4ada27c-64e5-471e-a7d2-fd8bdac0b02a",
   "metadata": {},
   "outputs": [
    {
     "name": "stdout",
     "output_type": "stream",
     "text": [
      "First Quartile:  17.025\n",
      "Third Quartile:  25.0\n",
      "Median (2nd Quartile): 21.2\n",
      "Interquartile range is:  7.98\n",
      "lower 1.5*IQR whisker: 5.06\n",
      "upper 1.5*IQR whisker: 36.96\n"
     ]
    }
   ],
   "source": [
    "# Compute Box plot parameters\n",
    "Q1, Q2, Q3 = boston_df[\"MEDV\"].quantile([0.25, 0.5, 0.75])\n",
    "IQR = Q3-Q1\n",
    "lower_whisker = Q1 - 1.5 * IQR\n",
    "upper_whisker = Q3 + 1.5 * IQR\n",
    "\n",
    "print(\"First Quartile: \", Q1)\n",
    "print(\"Third Quartile: \", Q3)\n",
    "print(\"Median (2nd Quartile):\", Q2)\n",
    "print(\"Interquartile range is: \", round(IQR,2))\n",
    "print(\"lower 1.5*IQR whisker:\", round(lower_whisker, 2))\n",
    "print(\"upper 1.5*IQR whisker:\", round(upper_whisker, 2))"
   ]
  },
  {
   "cell_type": "markdown",
   "id": "tender-quick",
   "metadata": {},
   "source": [
    "#### Discussion:<br> \n",
    "We notice more than 1 outliers in the data."
   ]
  },
  {
   "cell_type": "markdown",
   "id": "b75fb65d-1d4f-4420-b3c4-ae5e1f3b6494",
   "metadata": {},
   "source": [
    "### 2) Provide a Barplot for the Charles River variable."
   ]
  },
  {
   "cell_type": "code",
   "execution_count": 10,
   "id": "61db0d49-a61a-429d-8fe3-01aafd4dd694",
   "metadata": {},
   "outputs": [
    {
     "data": {
      "text/plain": [
       "dtype('int64')"
      ]
     },
     "execution_count": 10,
     "metadata": {},
     "output_type": "execute_result"
    }
   ],
   "source": [
    "# Since \"CHAS\" column is categorical it is better to convert it to integer type. \n",
    "boston_df = boston_df.astype({\"CHAS\" : int})\n",
    "boston_df['CHAS'].dtypes"
   ]
  },
  {
   "cell_type": "code",
   "execution_count": 11,
   "id": "4719ffe2-0ec4-4f43-ac1c-4e2f7e831f94",
   "metadata": {},
   "outputs": [
    {
     "data": {
      "text/html": [
       "<div>\n",
       "<style scoped>\n",
       "    .dataframe tbody tr th:only-of-type {\n",
       "        vertical-align: middle;\n",
       "    }\n",
       "\n",
       "    .dataframe tbody tr th {\n",
       "        vertical-align: top;\n",
       "    }\n",
       "\n",
       "    .dataframe thead th {\n",
       "        text-align: right;\n",
       "    }\n",
       "</style>\n",
       "<table border=\"1\" class=\"dataframe\">\n",
       "  <thead>\n",
       "    <tr style=\"text-align: right;\">\n",
       "      <th></th>\n",
       "      <th>CHAS</th>\n",
       "    </tr>\n",
       "  </thead>\n",
       "  <tbody>\n",
       "    <tr>\n",
       "      <th>140</th>\n",
       "      <td>0</td>\n",
       "    </tr>\n",
       "    <tr>\n",
       "      <th>141</th>\n",
       "      <td>0</td>\n",
       "    </tr>\n",
       "    <tr>\n",
       "      <th>142</th>\n",
       "      <td>1</td>\n",
       "    </tr>\n",
       "    <tr>\n",
       "      <th>143</th>\n",
       "      <td>0</td>\n",
       "    </tr>\n",
       "    <tr>\n",
       "      <th>144</th>\n",
       "      <td>0</td>\n",
       "    </tr>\n",
       "  </tbody>\n",
       "</table>\n",
       "</div>"
      ],
      "text/plain": [
       "     CHAS\n",
       "140     0\n",
       "141     0\n",
       "142     1\n",
       "143     0\n",
       "144     0"
      ]
     },
     "execution_count": 11,
     "metadata": {},
     "output_type": "execute_result"
    }
   ],
   "source": [
    "# Check CHAS data\n",
    "boston_df[[\"CHAS\"]][140:145]"
   ]
  },
  {
   "cell_type": "code",
   "execution_count": 12,
   "id": "1f8a8891-dd54-4192-b475-dfef48e863e3",
   "metadata": {},
   "outputs": [
    {
     "data": {
      "image/png": "[encoded data removed]",
      "text/plain": [
       "<Figure size 432x288 with 1 Axes>"
      ]
     },
     "metadata": {
      "needs_background": "light"
     },
     "output_type": "display_data"
    }
   ],
   "source": [
    "ax=sns.histplot(x=\"CHAS\", data=boston_df, bins=3)\n",
    "ax.set_title(\"Distribution of bounding Charles River\", fontsize=18)\n",
    "ax.set_xlabel(\"CHAS Distribution\", fontsize=16)\n",
    "ax.set_ylabel(\"COUNT\", fontsize=16)\n",
    "ax.grid(alpha=0.4)"
   ]
  },
  {
   "cell_type": "code",
   "execution_count": 13,
   "id": "94129a59-e50d-40e7-8a49-99c08c76e675",
   "metadata": {},
   "outputs": [
    {
     "name": "stdout",
     "output_type": "stream",
     "text": [
      "Number of homes bounded by Charles River:  35\n",
      "Number of homes not bounded by Charles River:  471\n"
     ]
    }
   ],
   "source": [
    "# Number of homes bounded by Charles River\n",
    "print(\"Number of homes bounded by Charles River: \",(boston_df[\"CHAS\"]==1).sum())\n",
    "print(\"Number of homes not bounded by Charles River: \",(boston_df[\"CHAS\"]==0).sum())"
   ]
  },
  {
   "cell_type": "markdown",
   "id": "green-large",
   "metadata": {},
   "source": [
    "#### Discussion:<br> \n",
    "Few houses (only 35) are bounded by Charles River"
   ]
  },
  {
   "cell_type": "markdown",
   "id": "3919a76e-4752-431f-b575-04d1755362f6",
   "metadata": {},
   "source": [
    "### 3) Provide a boxplot for the MEDV variable vs the AGE variable"
   ]
  },
  {
   "cell_type": "code",
   "execution_count": 14,
   "id": "eef55742-a359-462b-b581-b20643fa7750",
   "metadata": {},
   "outputs": [],
   "source": [
    "boston_df.loc[boston_df[\"AGE\"]<=35., \"AGE_GROUP\"] = \"35 Years and Younger\"\n",
    "boston_df.loc[(boston_df[\"AGE\"]>35)&(boston_df[\"AGE\"]<70), \"AGE_GROUP\"] = \"Between 35 and 70 years\"\n",
    "boston_df.loc[boston_df[\"AGE\"]>=70, \"AGE_GROUP\"] = \"70 Years and Older\""
   ]
  },
  {
   "cell_type": "code",
   "execution_count": 15,
   "id": "df0deb34-7351-499a-a819-6aa9935a8002",
   "metadata": {},
   "outputs": [
    {
     "data": {
      "text/html": [
       "<div>\n",
       "<style scoped>\n",
       "    .dataframe tbody tr th:only-of-type {\n",
       "        vertical-align: middle;\n",
       "    }\n",
       "\n",
       "    .dataframe tbody tr th {\n",
       "        vertical-align: top;\n",
       "    }\n",
       "\n",
       "    .dataframe thead th {\n",
       "        text-align: right;\n",
       "    }\n",
       "</style>\n",
       "<table border=\"1\" class=\"dataframe\">\n",
       "  <thead>\n",
       "    <tr style=\"text-align: right;\">\n",
       "      <th></th>\n",
       "      <th>Unnamed: 0</th>\n",
       "      <th>CRIM</th>\n",
       "      <th>ZN</th>\n",
       "      <th>INDUS</th>\n",
       "      <th>CHAS</th>\n",
       "      <th>NOX</th>\n",
       "      <th>RM</th>\n",
       "      <th>AGE</th>\n",
       "      <th>DIS</th>\n",
       "      <th>RAD</th>\n",
       "      <th>TAX</th>\n",
       "      <th>PTRATIO</th>\n",
       "      <th>LSTAT</th>\n",
       "      <th>MEDV</th>\n",
       "      <th>AGE_GROUP</th>\n",
       "    </tr>\n",
       "  </thead>\n",
       "  <tbody>\n",
       "    <tr>\n",
       "      <th>0</th>\n",
       "      <td>0</td>\n",
       "      <td>0.00632</td>\n",
       "      <td>18.0</td>\n",
       "      <td>2.31</td>\n",
       "      <td>0</td>\n",
       "      <td>0.538</td>\n",
       "      <td>6.575</td>\n",
       "      <td>65.2</td>\n",
       "      <td>4.0900</td>\n",
       "      <td>1.0</td>\n",
       "      <td>296.0</td>\n",
       "      <td>15.3</td>\n",
       "      <td>4.98</td>\n",
       "      <td>24.0</td>\n",
       "      <td>Between 35 and 70 years</td>\n",
       "    </tr>\n",
       "    <tr>\n",
       "      <th>1</th>\n",
       "      <td>1</td>\n",
       "      <td>0.02731</td>\n",
       "      <td>0.0</td>\n",
       "      <td>7.07</td>\n",
       "      <td>0</td>\n",
       "      <td>0.469</td>\n",
       "      <td>6.421</td>\n",
       "      <td>78.9</td>\n",
       "      <td>4.9671</td>\n",
       "      <td>2.0</td>\n",
       "      <td>242.0</td>\n",
       "      <td>17.8</td>\n",
       "      <td>9.14</td>\n",
       "      <td>21.6</td>\n",
       "      <td>70 Years and Older</td>\n",
       "    </tr>\n",
       "    <tr>\n",
       "      <th>2</th>\n",
       "      <td>2</td>\n",
       "      <td>0.02729</td>\n",
       "      <td>0.0</td>\n",
       "      <td>7.07</td>\n",
       "      <td>0</td>\n",
       "      <td>0.469</td>\n",
       "      <td>7.185</td>\n",
       "      <td>61.1</td>\n",
       "      <td>4.9671</td>\n",
       "      <td>2.0</td>\n",
       "      <td>242.0</td>\n",
       "      <td>17.8</td>\n",
       "      <td>4.03</td>\n",
       "      <td>34.7</td>\n",
       "      <td>Between 35 and 70 years</td>\n",
       "    </tr>\n",
       "    <tr>\n",
       "      <th>3</th>\n",
       "      <td>3</td>\n",
       "      <td>0.03237</td>\n",
       "      <td>0.0</td>\n",
       "      <td>2.18</td>\n",
       "      <td>0</td>\n",
       "      <td>0.458</td>\n",
       "      <td>6.998</td>\n",
       "      <td>45.8</td>\n",
       "      <td>6.0622</td>\n",
       "      <td>3.0</td>\n",
       "      <td>222.0</td>\n",
       "      <td>18.7</td>\n",
       "      <td>2.94</td>\n",
       "      <td>33.4</td>\n",
       "      <td>Between 35 and 70 years</td>\n",
       "    </tr>\n",
       "    <tr>\n",
       "      <th>4</th>\n",
       "      <td>4</td>\n",
       "      <td>0.06905</td>\n",
       "      <td>0.0</td>\n",
       "      <td>2.18</td>\n",
       "      <td>0</td>\n",
       "      <td>0.458</td>\n",
       "      <td>7.147</td>\n",
       "      <td>54.2</td>\n",
       "      <td>6.0622</td>\n",
       "      <td>3.0</td>\n",
       "      <td>222.0</td>\n",
       "      <td>18.7</td>\n",
       "      <td>5.33</td>\n",
       "      <td>36.2</td>\n",
       "      <td>Between 35 and 70 years</td>\n",
       "    </tr>\n",
       "  </tbody>\n",
       "</table>\n",
       "</div>"
      ],
      "text/plain": [
       "   Unnamed: 0     CRIM    ZN  INDUS  CHAS    NOX     RM   AGE     DIS  RAD  \\\n",
       "0           0  0.00632  18.0   2.31     0  0.538  6.575  65.2  4.0900  1.0   \n",
       "1           1  0.02731   0.0   7.07     0  0.469  6.421  78.9  4.9671  2.0   \n",
       "2           2  0.02729   0.0   7.07     0  0.469  7.185  61.1  4.9671  2.0   \n",
       "3           3  0.03237   0.0   2.18     0  0.458  6.998  45.8  6.0622  3.0   \n",
       "4           4  0.06905   0.0   2.18     0  0.458  7.147  54.2  6.0622  3.0   \n",
       "\n",
       "     TAX  PTRATIO  LSTAT  MEDV                AGE_GROUP  \n",
       "0  296.0     15.3   4.98  24.0  Between 35 and 70 years  \n",
       "1  242.0     17.8   9.14  21.6       70 Years and Older  \n",
       "2  242.0     17.8   4.03  34.7  Between 35 and 70 years  \n",
       "3  222.0     18.7   2.94  33.4  Between 35 and 70 years  \n",
       "4  222.0     18.7   5.33  36.2  Between 35 and 70 years  "
      ]
     },
     "execution_count": 15,
     "metadata": {},
     "output_type": "execute_result"
    }
   ],
   "source": [
    "boston_df.head()"
   ]
  },
  {
   "cell_type": "code",
   "execution_count": 16,
   "id": "95a75c55-5f35-4145-83c4-5543914d3f7c",
   "metadata": {},
   "outputs": [
    {
     "data": {
      "image/png": "[encoded data removed]",
      "text/plain": [
       "<Figure size 1008x504 with 1 Axes>"
      ]
     },
     "metadata": {
      "needs_background": "light"
     },
     "output_type": "display_data"
    }
   ],
   "source": [
    "plt.figure(figsize=(14,7))\n",
    "ax = sns.boxplot(x=\"AGE_GROUP\", y=\"MEDV\", data=boston_df) \n",
    "ax.set_title(\"MEDV variable vs the AGE variable\",fontsize=18)\n",
    "ax.set_xlabel(\"AGE_GROUP\", fontsize=16)\n",
    "ax.set_ylabel(\"MEDV\", fontsize=16)\n",
    "ax.set_xticklabels(ax.get_xticklabels(),rotation = 30, fontsize=14)\n",
    "ax.grid(alpha=0.3)"
   ]
  },
  {
   "cell_type": "code",
   "execution_count": 17,
   "id": "b3766c50-cc9f-41dd-8c4e-8c72dd368df1",
   "metadata": {},
   "outputs": [
    {
     "name": "stdout",
     "output_type": "stream",
     "text": [
      "median_35_y: 24.8\n",
      "median_35_70: 22.6\n",
      "median_70_o: 18.2\n"
     ]
    }
   ],
   "source": [
    "# Compute Medians\n",
    "median_35_y = boston_df[boston_df[\"AGE_GROUP\"] == \"35 Years and Younger\"][['MEDV']].median()[0]\n",
    "median_35_70 = boston_df[boston_df[\"AGE_GROUP\"] == \"Between 35 and 70 years\"][['MEDV']].median()[0]\n",
    "median_70_o = boston_df[boston_df[\"AGE_GROUP\"] == \"70 Years and Older\"][['MEDV']].median()[0]\n",
    "print(\"median_35_y:\", median_35_y)\n",
    "print(\"median_35_70:\", median_35_70)\n",
    "print(\"median_70_o:\", median_70_o)"
   ]
  },
  {
   "cell_type": "markdown",
   "id": "british-kuwait",
   "metadata": {},
   "source": [
    "#### Discussion:<br> \n",
    "From the results above we note that the oldest people tend to buy the cheaper houses."
   ]
  },
  {
   "cell_type": "markdown",
   "id": "04d911b2-6c72-4b60-b55f-689663941cfc",
   "metadata": {},
   "source": [
    "### 4) Provide a scatter plot to show the relationship between Nitric oxide concentrations and the proportion of non-retail business acres per town"
   ]
  },
  {
   "cell_type": "code",
   "execution_count": 18,
   "id": "3326745d-a934-410c-a3a5-2d45a3aca673",
   "metadata": {},
   "outputs": [
    {
     "data": {
      "text/plain": [
       "Text(0, 0.5, 'INDUS')"
      ]
     },
     "execution_count": 18,
     "metadata": {},
     "output_type": "execute_result"
    },
    {
     "data": {
      "image/png": "[encoded data removed]",
      "text/plain": [
       "<Figure size 648x288 with 1 Axes>"
      ]
     },
     "metadata": {
      "needs_background": "light"
     },
     "output_type": "display_data"
    }
   ],
   "source": [
    "# plot NOX vs INDUS\n",
    "plt.figure(figsize=(9,4))\n",
    "ax = sns.scatterplot(x=\"NOX\", y=\"INDUS\", data=boston_df)\n",
    "ax.set_title(\"Nitric Oxide Concentrations vs.\\n Proportion Of Non-retail Business acres per Town\", fontsize=16)\n",
    "ax.set_xlabel(\"Nitric oxide concentrations\", fontsize=14)\n",
    "ax.set_ylabel(\"INDUS\", fontsize=14)"
   ]
  },
  {
   "cell_type": "markdown",
   "id": "33ac828b-0b34-4c48-84ea-51279bd4c3d5",
   "metadata": {},
   "source": [
    "#### Discussion\n",
    "What can you say about the relationship?<br>from the visualization, we notice that the proportion of Proportion Of Non-retail Business acres per Town is linearly related (with positive slope) to the rate of Nitric Oxide Concentrations"
   ]
  },
  {
   "cell_type": "markdown",
   "id": "00a491b2-534d-450b-a31e-ea378dcfb1b7",
   "metadata": {},
   "source": [
    "### 5) Create a histogram for the pupil to teacher ratio variable."
   ]
  },
  {
   "cell_type": "code",
   "execution_count": 19,
   "id": "8f4e71b0-2eac-4ddf-b4e8-87a732c8eb98",
   "metadata": {
    "scrolled": true
   },
   "outputs": [
    {
     "data": {
      "text/plain": [
       "Text(0, 0.5, 'Count')"
      ]
     },
     "execution_count": 19,
     "metadata": {},
     "output_type": "execute_result"
    },
    {
     "data": {
      "image/png": "[encoded data removed]",
      "text/plain": [
       "<Figure size 432x288 with 1 Axes>"
      ]
     },
     "metadata": {
      "needs_background": "light"
     },
     "output_type": "display_data"
    }
   ],
   "source": [
    "bins = np.arange(13.5, 23.5, 1)\n",
    "ax=sns.histplot(x=\"PTRATIO\", bins=bins, data=boston_df, color=\"green\")\n",
    "ax.set_title(\"Pupil to Teacher Ratio\", fontsize=18)\n",
    "ax.set_xlabel(\"Ratio\", fontsize=16)\n",
    "ax.set_ylabel(\"Count\", fontsize=16)"
   ]
  },
  {
   "cell_type": "markdown",
   "id": "piano-small",
   "metadata": {},
   "source": [
    "#### Discussion\n",
    "1- Ration increases within the range (15 to 19) and makes a higher score in 20, finally it decreases from  the ration of 21"
   ]
  },
  {
   "cell_type": "markdown",
   "id": "a7499b8f-621b-44b4-897a-e9c9d977000f",
   "metadata": {},
   "source": [
    "# Task 5. Use the appropriate tests to answer the questions provided"
   ]
  },
  {
   "cell_type": "markdown",
   "id": "d6fd714e-3b02-41fe-a9b5-b44bbcb7281b",
   "metadata": {},
   "source": [
    "### - Question 1: Is there a significant difference in the median value of houses bounded by the Charles River or not?"
   ]
  },
  {
   "cell_type": "markdown",
   "id": "ed123ab2-b9c5-4adc-8b2b-32acc51ad1b4",
   "metadata": {},
   "source": [
    "State Hypothesis:<br>\n",
    "Null-hypothesis $H_0$: There is no difference in the median value bounded by Charles River.<br>\n",
    "Aletrnate hypothesis $H_1$: There is a difference."
   ]
  },
  {
   "cell_type": "code",
   "execution_count": 20,
   "id": "97b68221-28e5-4d49-b7e7-686c0f566691",
   "metadata": {},
   "outputs": [
    {
     "data": {
      "text/plain": [
       "LeveneResult(statistic=8.75190489604598, pvalue=0.003238119367639829)"
      ]
     },
     "execution_count": 20,
     "metadata": {},
     "output_type": "execute_result"
    }
   ],
   "source": [
    "# check test significance \"equality of variances\"\n",
    "scipy.stats.levene(boston_df[boston_df[\"CHAS\"] == 1][\"MEDV\"],\n",
    "                  boston_df[boston_df[\"CHAS\"] == 0][\"MEDV\"], center = \"mean\")"
   ]
  },
  {
   "cell_type": "markdown",
   "id": "799c4b28-3c27-4661-a14f-3b024d55d09a",
   "metadata": {},
   "source": [
    "Since the p-value is less than 0.05 so, we can't assume the equalty of variance"
   ]
  },
  {
   "cell_type": "code",
   "execution_count": 21,
   "id": "f7673996-2906-4f62-b370-61bc6aeb2339",
   "metadata": {},
   "outputs": [],
   "source": [
    "result1 = scipy.stats.ttest_ind(boston_df[boston_df[\"CHAS\"] == 1][\"MEDV\"],\n",
    "                     boston_df[boston_df[\"CHAS\"] == 0][\"MEDV\"], equal_var=False)"
   ]
  },
  {
   "cell_type": "code",
   "execution_count": 22,
   "id": "a2e0b3ef-9656-4a47-8659-99391e154d6e",
   "metadata": {},
   "outputs": [
    {
     "name": "stdout",
     "output_type": "stream",
     "text": [
      "p-value =  0.0036\n"
     ]
    }
   ],
   "source": [
    "print(\"p-value = \", round(result1[1], 4))"
   ]
  },
  {
   "cell_type": "markdown",
   "id": "ee20f34d-0a0d-4c9b-85d4-8cddeffc8a88",
   "metadata": {},
   "source": [
    "#### Conclusion:<br>Since the p-value < 0.05, we reject the null-hypothesis as there is enough proof that there is a statistical difference in the median value of houses bounded by the Charles River"
   ]
  },
  {
   "cell_type": "markdown",
   "id": "7f5b6d20-7917-4c9f-af95-91615e35a7ef",
   "metadata": {},
   "source": [
    "#"
   ]
  },
  {
   "cell_type": "markdown",
   "id": "042d3b53-8429-4fc2-9790-287aaca497d4",
   "metadata": {},
   "source": [
    "### - Question 2: Is there a difference in median values of houses of each proportion of owner-occupied units built before 1940?"
   ]
  },
  {
   "cell_type": "markdown",
   "id": "b71e8d98-f091-432f-a9f2-47a6e69b9b63",
   "metadata": {},
   "source": [
    "First, We group data into categories and we will use ANOVA to respond to question:<br>\n",
    "* 35 Years and Younger.\n",
    "* Between 35 and 70 years.\n",
    "* 70 Years and Older"
   ]
  },
  {
   "cell_type": "markdown",
   "id": "1c376819-abb3-4bbc-bf4a-ccbef976799c",
   "metadata": {},
   "source": [
    "State Hypothesis:<br>\n",
    "Null-hypothesis $H_0$: There is no difference in the median value of each proportion of owner-occupied units built before 1940.<br>\n",
    "Aletrnative hypothesis $H_1$: There is a difference."
   ]
  },
  {
   "cell_type": "markdown",
   "id": "5a90ee12-1424-46f8-b648-39d13e75c95b",
   "metadata": {},
   "source": [
    "#### Test for equality of variance"
   ]
  },
  {
   "cell_type": "code",
   "execution_count": 23,
   "id": "1581e8c4-792c-44d8-87ef-175ab4f64f81",
   "metadata": {},
   "outputs": [],
   "source": [
    "proportion1 = boston_df[boston_df[\"AGE_GROUP\"] == \"35 Years and Younger\"][\"MEDV\"]\n",
    "proportion2 = boston_df[boston_df[\"AGE_GROUP\"] == \"Between 35 and 70 years\"][\"MEDV\"]\n",
    "proportion3 = boston_df[boston_df[\"AGE_GROUP\"] == \"70 Years and Older\"][\"MEDV\"]"
   ]
  },
  {
   "cell_type": "code",
   "execution_count": 24,
   "id": "6decf64e-8745-466f-8fc0-8b53d43dcf30",
   "metadata": {},
   "outputs": [
    {
     "data": {
      "text/plain": [
       "LeveneResult(statistic=2.7806200293748304, pvalue=0.06295337343259205)"
      ]
     },
     "execution_count": 24,
     "metadata": {},
     "output_type": "execute_result"
    }
   ],
   "source": [
    "scipy.stats.levene(proportion1, proportion2, proportion3, center=\"mean\")"
   ]
  },
  {
   "cell_type": "markdown",
   "id": "bb442a76-2772-45bc-bac5-a1c43196267b",
   "metadata": {},
   "source": [
    "Since the ($p-value = 0.0629$) is greater than ($\\alpha$ $= 0.05$) the variances are equal."
   ]
  },
  {
   "cell_type": "code",
   "execution_count": 25,
   "id": "e1a432f9-843e-4723-a096-82fb21a54e91",
   "metadata": {},
   "outputs": [
    {
     "name": "stdout",
     "output_type": "stream",
     "text": [
      "F-statistic: 36.408 and P-value: 1.7105e-15 \n"
     ]
    }
   ],
   "source": [
    "f_statistic, p_value = scipy.stats.f_oneway(proportion1, proportion2, proportion3)\n",
    "print(\"F-statistic: {:.3f} and P-value: {:.5} \".format(f_statistic, p_value))"
   ]
  },
  {
   "cell_type": "markdown",
   "id": "b00f39a6-15da-4ea1-82b0-1a86bef72038",
   "metadata": {},
   "source": [
    "#### Conclusion:<br>Since the p-value=$1.7105e-15$ is less than $\\alpha = 0.05$, we will reject the null hypothesis as there is a significant evidence that at least one of the means differ."
   ]
  },
  {
   "cell_type": "markdown",
   "id": "3871853b-e3cc-420e-8f4c-137002e16907",
   "metadata": {},
   "source": [
    "###"
   ]
  },
  {
   "cell_type": "markdown",
   "id": "6b5d665f-fdf8-45b2-934f-847a14abd8bf",
   "metadata": {},
   "source": [
    "### - Question 3: Can we conclude that there is no relationship between Nitric oxide concentrations and the proportion of non-retail business acres per town?"
   ]
  },
  {
   "cell_type": "markdown",
   "id": "86bdee26-bfe5-4d39-bb58-ad9628963b99",
   "metadata": {},
   "source": [
    "State the hypothesis:<br>\n",
    "* $𝐻_0$: There is no relationship between NOX and INDUS data.\n",
    "* $𝐻_1$: There is relationship between NOX and INDUS data."
   ]
  },
  {
   "cell_type": "code",
   "execution_count": 26,
   "id": "226e5a75-27c9-4e6d-a8b2-2197aafd76c6",
   "metadata": {},
   "outputs": [
    {
     "data": {
      "text/plain": [
       "(0.7636514469209151, 7.913361061238693e-98)"
      ]
     },
     "execution_count": 26,
     "metadata": {},
     "output_type": "execute_result"
    }
   ],
   "source": [
    "result2 = scipy.stats.pearsonr(boston_df[\"INDUS\"], boston_df[\"NOX\"])\n",
    "result2"
   ]
  },
  {
   "cell_type": "code",
   "execution_count": 27,
   "id": "ac341d76-57d1-4fd6-8afc-ac1eb3338c78",
   "metadata": {},
   "outputs": [
    {
     "name": "stdout",
     "output_type": "stream",
     "text": [
      "p-value : 7.913361061238693e-98\n"
     ]
    }
   ],
   "source": [
    "print(\"p-value :\", result2[1])"
   ]
  },
  {
   "cell_type": "markdown",
   "id": "e25e4553-9f2b-4199-9e2d-b5ea3b1b92c9",
   "metadata": {},
   "source": [
    "#### Conclusion:<br> Since the p-value < 0.05, we reject the Null hypothesis and conclude that there exists a relationship between Nitric oxide concentrations and the proportion of non-retail business acres per town."
   ]
  },
  {
   "cell_type": "markdown",
   "id": "dc4c6f9b-5a90-4a0d-bb40-45b82b6e77d3",
   "metadata": {},
   "source": [
    "#"
   ]
  },
  {
   "cell_type": "markdown",
   "id": "912647a3-d1ac-4240-8ca2-3cbd4c647d16",
   "metadata": {},
   "source": [
    "### - Question 4: What is the impact of an additional weighted distance to the five Boston employment centres on the median value of owner-occupied homes?"
   ]
  },
  {
   "cell_type": "markdown",
   "id": "great-booth",
   "metadata": {},
   "source": [
    "State the hypothesis:<br>\n",
    "* $𝐻_0$: There is no correlation between DIS and MEDV data.\n",
    "* $𝐻_1$: There is correlation between DIS and MEDV data."
   ]
  },
  {
   "cell_type": "code",
   "execution_count": 28,
   "id": "da4a273b-d47c-4012-8fd0-f379c5852d32",
   "metadata": {},
   "outputs": [
    {
     "data": {
      "text/plain": [
       "Text(0, 0.5, 'MEDV')"
      ]
     },
     "execution_count": 28,
     "metadata": {},
     "output_type": "execute_result"
    },
    {
     "data": {
      "image/png": "[encoded data removed]",
      "text/plain": [
       "<Figure size 720x432 with 1 Axes>"
      ]
     },
     "metadata": {
      "needs_background": "light"
     },
     "output_type": "display_data"
    }
   ],
   "source": [
    "plt.figure(figsize=(10, 6))\n",
    "ax=sns.scatterplot(x = \"DIS\", y=\"MEDV\", data=boston_df)\n",
    "ax.set_title(\"Impact impact of an additional weighted distance to the five Boston employment centres \\n on the median value of owner-occupied homes\")\n",
    "ax.set_xlabel(\"DIS\", fontsize=16)\n",
    "ax.set_ylabel(\"MEDV\", fontsize=16)"
   ]
  },
  {
   "cell_type": "code",
   "execution_count": 29,
   "id": "1a481e13-7fd2-46c9-925b-50f404df8d0c",
   "metadata": {},
   "outputs": [
    {
     "data": {
      "text/plain": [
       "(0.2499287340859039, 1.2066117273368017e-08)"
      ]
     },
     "execution_count": 29,
     "metadata": {},
     "output_type": "execute_result"
    }
   ],
   "source": [
    "result3 = scipy.stats.pearsonr(boston_df[\"DIS\"], boston_df[\"MEDV\"])\n",
    "result3"
   ]
  },
  {
   "cell_type": "code",
   "execution_count": 30,
   "id": "twenty-salad",
   "metadata": {},
   "outputs": [
    {
     "name": "stdout",
     "output_type": "stream",
     "text": [
      "The p-value:  1.2066117273368017e-08\n"
     ]
    }
   ],
   "source": [
    "print(\"The p-value: \", result3[1])"
   ]
  },
  {
   "cell_type": "markdown",
   "id": "2c1d15b5-cfa4-46e7-b11f-54cbe6a54176",
   "metadata": {},
   "source": [
    "#### Conclusion:<br> 1- There is a proportional relationship between the two variables, such that when additional weighted distance to 5 centers increases there will be an increase in median value of ooh."
   ]
  },
  {
   "cell_type": "markdown",
   "id": "6604675b-cc71-468a-9019-f219e755e3e3",
   "metadata": {},
   "source": [
    "#"
   ]
  },
  {
   "cell_type": "markdown",
   "id": "01637aa3-c34a-4118-a231-1d4abb01c21e",
   "metadata": {},
   "source": [
    "### Thank you for reviewing                                                              *"
   ]
  }
 ],
 "metadata": {
  "kernelspec": {
   "display_name": "Python 3.8",
   "language": "python",
   "name": "python3"
  },
  "language_info": {
   "codemirror_mode": {
    "name": "ipython",
    "version": 3
   },
   "file_extension": ".py",
   "mimetype": "text/x-python",
   "name": "python",
   "nbconvert_exporter": "python",
   "pygments_lexer": "ipython3",
   "version": "3.8.12"
  }
 },
 "nbformat": 4,
 "nbformat_minor": 5
}
